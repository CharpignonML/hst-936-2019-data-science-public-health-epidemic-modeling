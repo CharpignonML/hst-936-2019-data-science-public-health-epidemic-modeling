{
 "cells": [
  {
   "cell_type": "code",
   "execution_count": 10,
   "metadata": {
    "collapsed": true
   },
   "outputs": [],
   "source": [
    "import numpy as np\n",
    "import sklearn as sk\n",
    "import pandas as pd\n",
    "import matplotlib.pyplot as plt\n",
    "import re\n",
    "\n",
    "import nltk\n",
    "from collections import Counter\n",
    "from nltk import ne_chunk, pos_tag, word_tokenize\n",
    "from nltk.tree import Tree\n",
    "from nltk.chunk import conlltags2tree, tree2conlltags\n",
    "from pprint import pprint\n",
    "\n",
    "from sklearn.feature_extraction import DictVectorizer\n",
    "\n",
    "from nltk.sentiment import SentimentAnalyzer\n",
    "from nltk.sentiment.util import *\n",
    "from nltk.sentiment.vader import SentimentIntensityAnalyzer\n",
    "\n",
    "from sklearn.decomposition import LatentDirichletAllocation"
   ]
  },
  {
   "cell_type": "markdown",
   "metadata": {},
   "source": [
    "Define basic functions"
   ]
  },
  {
   "cell_type": "code",
   "execution_count": 4,
   "metadata": {
    "collapsed": true
   },
   "outputs": [],
   "source": [
    "def get_continuous_chunks(text):\n",
    "    chunked = ne_chunk(pos_tag(word_tokenize(text)))\n",
    "    prev = None\n",
    "    continuous_chunk = []\n",
    "    current_chunk = []\n",
    "    for i in chunked:\n",
    "            if type(i) == Tree:\n",
    "                    current_chunk.append(\" \".join([token for token, pos in i.leaves()]))\n",
    "            elif current_chunk:\n",
    "                    named_entity = \" \".join(current_chunk)\n",
    "                    if named_entity not in continuous_chunk:\n",
    "                            continuous_chunk.append(named_entity)\n",
    "                            current_chunk = []\n",
    "            else:\n",
    "                    continue\n",
    "    return continuous_chunk\n",
    "\n",
    "def num_named_entity(text):\n",
    "    named_entity = np.array(get_continuous_chunks(text))\n",
    "    return named_entity.shape[0]\n",
    "\n",
    "def num_sen(X):\n",
    "    sentences = len(X.split(\".\"))\n",
    "    return sentences\n",
    "\n",
    "def num_word(X):\n",
    "    words = len(X.split())\n",
    "    return words\n",
    "\n",
    "def avg_word_per_sen(X):\n",
    "    word_per_sen = num_word(X)/num_sen(X)\n",
    "    return word_per_sen\n",
    "\n",
    "def frac_words(X):    \n",
    "    num_of_sen = np.array(X.split(\".\")).shape[0]\n",
    "    \n",
    "    #tokenize using NLTK\n",
    "    tokens = nltk.word_tokenize(X)\n",
    "    text = nltk.Text(tokens)\n",
    "    tags = nltk.pos_tag(text)\n",
    "    \n",
    "    #count words and nouns and normalize by total counts\n",
    "    counts = Counter(tag for word,tag in tags)\n",
    "    total = sum(counts.values())\n",
    "    frac = dict((word, float(count)/total) for word,count in counts.items())\n",
    "    \n",
    "    #frac_noun: fraction of nouns\n",
    "    noun_tags = [\"NN\",\"NNS\",\"NNP\",\"NNPS\",\"PRP\",\"PRP$\",\"WP\",\"WP$\",\"WRB\"]\n",
    "    frac_noun = 0\n",
    "    for tag_i in noun_tags:\n",
    "        if tag_i in frac:\n",
    "            frac_noun += frac[str(tag_i)]\n",
    "            \n",
    "    #frac_verb: fraction of verbs\n",
    "    verb_tags = [\"RB\",\"RBR\",\"RBS\",\"VB\",\"VBD\",\"VBG\",\"VBN\",\"VBP\",\"VBZ\"]\n",
    "    frac_verb = 0\n",
    "    for tag_i in verb_tags:\n",
    "        if tag_i in frac:\n",
    "            frac_verb += frac[str(tag_i)]\n",
    "    \n",
    "    return np.array([[frac_noun, frac_verb]])"
   ]
  },
  {
   "cell_type": "markdown",
   "metadata": {},
   "source": [
    "Define functions to compute polarity score"
   ]
  },
  {
   "cell_type": "code",
   "execution_count": 5,
   "metadata": {
    "collapsed": true
   },
   "outputs": [],
   "source": [
    "analyser = SentimentIntensityAnalyzer()\n",
    "\n",
    "def polarity_score_by_sentence(text):    \n",
    "    sentence_list = text.split(\".\")\n",
    "    pscore_list = pd.DataFrame(index = range(1,num_sen(text)+1),columns=['neg','neu', 'pos', 'compound'])\n",
    "\n",
    "    for i in range(num_sen(text)):\n",
    "        pscore = analyser.polarity_scores(sentence_list[i])\n",
    "        pscore_list.loc[i+1,:] = pscore\n",
    "    return pscore_list\n",
    "\n",
    "def avg_polarity_score(text):    \n",
    "    pscore_list = polarity_score_by_sentence(text)\n",
    "    return np.array(pscore_list.mean())\n",
    "\n",
    "def var_polarity_score(text):    \n",
    "    pscore_list = polarity_score_by_sentence(text)\n",
    "    return np.array(pscore_list.var())\n",
    "    \n",
    "def polarity_scores(text):    \n",
    "    pscore_list = polarity_score_by_sentence(text)\n",
    "    \n",
    "    return np.append(pscore_list.mean(),pscore_list.var())"
   ]
  },
  {
   "cell_type": "markdown",
   "metadata": {},
   "source": [
    "Define functions to apply functions to the DataFrame"
   ]
  },
  {
   "cell_type": "code",
   "execution_count": 14,
   "metadata": {
    "collapsed": true
   },
   "outputs": [],
   "source": [
    "def make_stylo_features(X):\n",
    "    Y = np.array([[num_sen(X),num_word(X), avg_word_per_sen(X), num_named_entity(X)]])\n",
    "    Y = np.concatenate((Y,frac_words(X),polarity_scores(X)), axis=None)\n",
    "    \n",
    "    Y = pd.DataFrame(np.array([Y]), columns= [\"num_sen\",\"num_word\", \"avg_word_per_sen\", \"num_named_entity\",\"frac_words_noun\",\"frac_words_verb\",\n",
    "                    \"avg_polarity_score_negative\",\"avg_polarity_score_neutral\",\"avg_polarity_score_positive\",\"avg_polarity_score_compound\",\n",
    "                    \"var_polarity_score_negative\",\"var_polarity_score_neutral\",\"var_polarity_score_positive\",\"var_polarity_score_compound\"])  \n",
    "    return Y\n",
    "\n",
    "def make_stylo_features_df_Text(data):\n",
    "    stylo_features = make_stylo_features(data.loc[0,\"Text\"])\n",
    "    for i in range(1,data.shape[0]):\n",
    "        X = data.loc[i,\"Text\"]\n",
    "        stylo_features = pd.concat([stylo_features,make_stylo_features(X)], axis=0, ignore_index=True)\n",
    "    return stylo_features\n",
    "\n",
    "def make_stylo_features_df_Title(data):\n",
    "    stylo_features = make_stylo_features(data.loc[0,\"Title\"])\n",
    "    for i in range(1,data.shape[0]):\n",
    "        X = data.loc[i,\"Title\"]\n",
    "        stylo_features = pd.concat([stylo_features,make_stylo_features(X)], axis=0, ignore_index=True)\n",
    "    return stylo_features\n",
    "\n",
    "def add_stylo_features(data):\n",
    "    stylo_features = make_stylo_features(data.loc[0,\"Text\"])\n",
    "    for i in range(1,data.shape[0]):\n",
    "        X = data.loc[i,\"Text\"]\n",
    "        stylo_features = pd.concat([stylo_features,make_stylo_features(X)], axis=0, ignore_index=True)\n",
    "    data = pd.concat([data,stylo_features], axis=1)\n",
    "    return data\n",
    "\n",
    "def make_simple_stylo_features(X):\n",
    "    Y = np.array([[num_sen(X),num_word(X), avg_word_per_sen(X)]])\n",
    "    Y = pd.DataFrame(Y, columns= [\"num_sen\",\"num_word\", \"avg_word_per_sen\"])  \n",
    "    return Y\n",
    "\n",
    "def make_simple_stylo_features_df(data):\n",
    "    stylo_features = make_simple_stylo_features(data.loc[0,\"Title\"])\n",
    "    for i in range(1,data.shape[0]):\n",
    "        X = data.loc[i,\"Title\"]\n",
    "        stylo_features = pd.concat([stylo_features,make_simple_stylo_features(X)], axis=0, ignore_index=True)\n",
    "    return stylo_features"
   ]
  },
  {
   "cell_type": "markdown",
   "metadata": {},
   "source": [
    "Load data from csv files"
   ]
  },
  {
   "cell_type": "code",
   "execution_count": 8,
   "metadata": {},
   "outputs": [
    {
     "data": {
      "text/html": [
       "<div>\n",
       "<style scoped>\n",
       "    .dataframe tbody tr th:only-of-type {\n",
       "        vertical-align: middle;\n",
       "    }\n",
       "\n",
       "    .dataframe tbody tr th {\n",
       "        vertical-align: top;\n",
       "    }\n",
       "\n",
       "    .dataframe thead th {\n",
       "        text-align: right;\n",
       "    }\n",
       "</style>\n",
       "<table border=\"1\" class=\"dataframe\">\n",
       "  <thead>\n",
       "    <tr style=\"text-align: right;\">\n",
       "      <th></th>\n",
       "      <th>Location</th>\n",
       "      <th>Title</th>\n",
       "      <th>link</th>\n",
       "      <th>Issue date</th>\n",
       "      <th>Category</th>\n",
       "      <th>Mention other states? (yes - 1/no - 0)</th>\n",
       "      <th>States if 1 in F</th>\n",
       "    </tr>\n",
       "  </thead>\n",
       "  <tbody>\n",
       "    <tr>\n",
       "      <th>0</th>\n",
       "      <td>Alabama, United States</td>\n",
       "      <td>Hepatitis A outbreak investigation spreads to ...</td>\n",
       "      <td>http://www.waff.com/2018/12/29/hepatitis-outbr...</td>\n",
       "      <td>12/28/18 22:39</td>\n",
       "      <td>Breaking</td>\n",
       "      <td>0.0</td>\n",
       "      <td>NaN</td>\n",
       "    </tr>\n",
       "    <tr>\n",
       "      <th>1</th>\n",
       "      <td>Alabama, United States</td>\n",
       "      <td>PRO/EDR&gt; Hepatitis A - USA (65): (KY, WV, AL)</td>\n",
       "      <td>http://promedmail.org/direct.php?id=20181229.6...</td>\n",
       "      <td>12/29/18 17:46</td>\n",
       "      <td>No Tag</td>\n",
       "      <td>1.0</td>\n",
       "      <td>KY, WV</td>\n",
       "    </tr>\n",
       "    <tr>\n",
       "      <th>2</th>\n",
       "      <td>Alabama, United States</td>\n",
       "      <td>Health Officials Warn About Increasing Outbrea...</td>\n",
       "      <td>https://dailybusinessgazette.com/health-offici...</td>\n",
       "      <td>12/30/18 7:18</td>\n",
       "      <td>Breaking</td>\n",
       "      <td>1.0</td>\n",
       "      <td>TN</td>\n",
       "    </tr>\n",
       "    <tr>\n",
       "      <th>3</th>\n",
       "      <td>Alabama, United States</td>\n",
       "      <td>Hepatitis A outbreak spreads - rocketcitynow.com</td>\n",
       "      <td>https://www.rocketcitynow.com/news/hepatitis-a...</td>\n",
       "      <td>1/10/19 7:08</td>\n",
       "      <td>Breaking</td>\n",
       "      <td>0.0</td>\n",
       "      <td>NaN</td>\n",
       "    </tr>\n",
       "    <tr>\n",
       "      <th>4</th>\n",
       "      <td>Alabama, United States</td>\n",
       "      <td>Hepatitis A outbreak in Georgia, Alabama - WRBL</td>\n",
       "      <td>https://www.wrbl.com/news/georgia/hepatitis-a-...</td>\n",
       "      <td>3/18/19 14:05</td>\n",
       "      <td>Context</td>\n",
       "      <td>1.0</td>\n",
       "      <td>GA</td>\n",
       "    </tr>\n",
       "  </tbody>\n",
       "</table>\n",
       "</div>"
      ],
      "text/plain": [
       "                 Location                                              Title  \\\n",
       "0  Alabama, United States  Hepatitis A outbreak investigation spreads to ...   \n",
       "1  Alabama, United States      PRO/EDR> Hepatitis A - USA (65): (KY, WV, AL)   \n",
       "2  Alabama, United States  Health Officials Warn About Increasing Outbrea...   \n",
       "3  Alabama, United States   Hepatitis A outbreak spreads - rocketcitynow.com   \n",
       "4  Alabama, United States    Hepatitis A outbreak in Georgia, Alabama - WRBL   \n",
       "\n",
       "                                                link      Issue date  \\\n",
       "0  http://www.waff.com/2018/12/29/hepatitis-outbr...  12/28/18 22:39   \n",
       "1  http://promedmail.org/direct.php?id=20181229.6...  12/29/18 17:46   \n",
       "2  https://dailybusinessgazette.com/health-offici...   12/30/18 7:18   \n",
       "3  https://www.rocketcitynow.com/news/hepatitis-a...    1/10/19 7:08   \n",
       "4  https://www.wrbl.com/news/georgia/hepatitis-a-...   3/18/19 14:05   \n",
       "\n",
       "   Category  Mention other states? (yes - 1/no - 0) States if 1 in F  \n",
       "0  Breaking                                     0.0              NaN  \n",
       "1    No Tag                                     1.0           KY, WV  \n",
       "2  Breaking                                     1.0               TN  \n",
       "3  Breaking                                     0.0              NaN  \n",
       "4   Context                                     1.0               GA  "
      ]
     },
     "execution_count": 8,
     "metadata": {},
     "output_type": "execute_result"
    }
   ],
   "source": [
    "articles_df = pd.read_csv(\"data/HealthMap - extracted outbreak articles.csv\")\n",
    "df_ken = pd.read_csv(\"data/ken.csv\")\n",
    "df_cal = pd.read_csv(\"data/cal.csv\")\n",
    "\n",
    "articles_df.head()"
   ]
  },
  {
   "cell_type": "markdown",
   "metadata": {},
   "source": [
    "Sentiment analysis 1\n",
    "\n",
    "Data: the titles of all articles - with outbreak vs. without outbreak"
   ]
  },
  {
   "cell_type": "code",
   "execution_count": 18,
   "metadata": {},
   "outputs": [
    {
     "data": {
      "text/html": [
       "<div>\n",
       "<style scoped>\n",
       "    .dataframe tbody tr th:only-of-type {\n",
       "        vertical-align: middle;\n",
       "    }\n",
       "\n",
       "    .dataframe tbody tr th {\n",
       "        vertical-align: top;\n",
       "    }\n",
       "\n",
       "    .dataframe thead th {\n",
       "        text-align: right;\n",
       "    }\n",
       "</style>\n",
       "<table border=\"1\" class=\"dataframe\">\n",
       "  <thead>\n",
       "    <tr style=\"text-align: right;\">\n",
       "      <th></th>\n",
       "      <th>State</th>\n",
       "      <th>Outbreak</th>\n",
       "    </tr>\n",
       "  </thead>\n",
       "  <tbody>\n",
       "    <tr>\n",
       "      <th>0</th>\n",
       "      <td>Alabama</td>\n",
       "      <td>0</td>\n",
       "    </tr>\n",
       "    <tr>\n",
       "      <th>1</th>\n",
       "      <td>Alaska</td>\n",
       "      <td>0</td>\n",
       "    </tr>\n",
       "    <tr>\n",
       "      <th>2</th>\n",
       "      <td>Arizona</td>\n",
       "      <td>0</td>\n",
       "    </tr>\n",
       "    <tr>\n",
       "      <th>3</th>\n",
       "      <td>Arkansas</td>\n",
       "      <td>1</td>\n",
       "    </tr>\n",
       "    <tr>\n",
       "      <th>4</th>\n",
       "      <td>California</td>\n",
       "      <td>1</td>\n",
       "    </tr>\n",
       "  </tbody>\n",
       "</table>\n",
       "</div>"
      ],
      "text/plain": [
       "        State  Outbreak\n",
       "0     Alabama         0\n",
       "1      Alaska         0\n",
       "2     Arizona         0\n",
       "3    Arkansas         1\n",
       "4  California         1"
      ]
     },
     "execution_count": 18,
     "metadata": {},
     "output_type": "execute_result"
    }
   ],
   "source": [
    "df_appended = pd.read_csv('HealthMap_stylo_data_added.csv')\n",
    "\n",
    "df_states = pd.read_csv(\"data/List of states with outbreak_no outbreak.csv\")\n",
    "df_states.columns = ['State','Outbreak']\n",
    "df_states.head()"
   ]
  },
  {
   "cell_type": "code",
   "execution_count": 19,
   "metadata": {},
   "outputs": [
    {
     "data": {
      "text/html": [
       "<div>\n",
       "<style scoped>\n",
       "    .dataframe tbody tr th:only-of-type {\n",
       "        vertical-align: middle;\n",
       "    }\n",
       "\n",
       "    .dataframe tbody tr th {\n",
       "        vertical-align: top;\n",
       "    }\n",
       "\n",
       "    .dataframe thead th {\n",
       "        text-align: right;\n",
       "    }\n",
       "</style>\n",
       "<table border=\"1\" class=\"dataframe\">\n",
       "  <thead>\n",
       "    <tr style=\"text-align: right;\">\n",
       "      <th></th>\n",
       "      <th>Location</th>\n",
       "      <th>Title</th>\n",
       "      <th>link</th>\n",
       "      <th>Issue date</th>\n",
       "      <th>Category</th>\n",
       "      <th>Mention other states? (yes - 1/no - 0)</th>\n",
       "      <th>States if 1 in F</th>\n",
       "      <th>num_named_entity</th>\n",
       "      <th>avg_polarity_score_negative</th>\n",
       "      <th>avg_polarity_score_neutral</th>\n",
       "      <th>avg_polarity_score_positive</th>\n",
       "      <th>avg_polarity_score_compound</th>\n",
       "    </tr>\n",
       "  </thead>\n",
       "  <tbody>\n",
       "    <tr>\n",
       "      <th>0</th>\n",
       "      <td>Alabama</td>\n",
       "      <td>Hepatitis A outbreak investigation spreads to ...</td>\n",
       "      <td>http://www.waff.com/2018/12/29/hepatitis-outbr...</td>\n",
       "      <td>12/28/18 22:39</td>\n",
       "      <td>Breaking</td>\n",
       "      <td>0.0</td>\n",
       "      <td>NaN</td>\n",
       "      <td>1.0</td>\n",
       "      <td>0.000</td>\n",
       "      <td>1.000</td>\n",
       "      <td>0.0</td>\n",
       "      <td>0.0000</td>\n",
       "    </tr>\n",
       "    <tr>\n",
       "      <th>1</th>\n",
       "      <td>Alabama</td>\n",
       "      <td>PRO/EDR&gt; Hepatitis A - USA (65): (KY, WV, AL)</td>\n",
       "      <td>http://promedmail.org/direct.php?id=20181229.6...</td>\n",
       "      <td>12/29/18 17:46</td>\n",
       "      <td>No Tag</td>\n",
       "      <td>1.0</td>\n",
       "      <td>KY, WV</td>\n",
       "      <td>4.0</td>\n",
       "      <td>0.000</td>\n",
       "      <td>1.000</td>\n",
       "      <td>0.0</td>\n",
       "      <td>0.0000</td>\n",
       "    </tr>\n",
       "    <tr>\n",
       "      <th>2</th>\n",
       "      <td>Alabama</td>\n",
       "      <td>Health Officials Warn About Increasing Outbrea...</td>\n",
       "      <td>https://dailybusinessgazette.com/health-offici...</td>\n",
       "      <td>12/30/18 7:18</td>\n",
       "      <td>Breaking</td>\n",
       "      <td>1.0</td>\n",
       "      <td>TN</td>\n",
       "      <td>3.0</td>\n",
       "      <td>0.104</td>\n",
       "      <td>0.896</td>\n",
       "      <td>0.0</td>\n",
       "      <td>-0.1027</td>\n",
       "    </tr>\n",
       "    <tr>\n",
       "      <th>3</th>\n",
       "      <td>Alabama</td>\n",
       "      <td>Hepatitis A outbreak spreads - rocketcitynow.com</td>\n",
       "      <td>https://www.rocketcitynow.com/news/hepatitis-a...</td>\n",
       "      <td>1/10/19 7:08</td>\n",
       "      <td>Breaking</td>\n",
       "      <td>0.0</td>\n",
       "      <td>NaN</td>\n",
       "      <td>0.0</td>\n",
       "      <td>0.000</td>\n",
       "      <td>1.000</td>\n",
       "      <td>0.0</td>\n",
       "      <td>0.0000</td>\n",
       "    </tr>\n",
       "    <tr>\n",
       "      <th>4</th>\n",
       "      <td>Alabama</td>\n",
       "      <td>Hepatitis A outbreak in Georgia, Alabama - WRBL</td>\n",
       "      <td>https://www.wrbl.com/news/georgia/hepatitis-a-...</td>\n",
       "      <td>3/18/19 14:05</td>\n",
       "      <td>Context</td>\n",
       "      <td>1.0</td>\n",
       "      <td>GA</td>\n",
       "      <td>2.0</td>\n",
       "      <td>0.000</td>\n",
       "      <td>1.000</td>\n",
       "      <td>0.0</td>\n",
       "      <td>0.0000</td>\n",
       "    </tr>\n",
       "  </tbody>\n",
       "</table>\n",
       "</div>"
      ],
      "text/plain": [
       "  Location                                              Title  \\\n",
       "0  Alabama  Hepatitis A outbreak investigation spreads to ...   \n",
       "1  Alabama      PRO/EDR> Hepatitis A - USA (65): (KY, WV, AL)   \n",
       "2  Alabama  Health Officials Warn About Increasing Outbrea...   \n",
       "3  Alabama   Hepatitis A outbreak spreads - rocketcitynow.com   \n",
       "4  Alabama    Hepatitis A outbreak in Georgia, Alabama - WRBL   \n",
       "\n",
       "                                                link      Issue date  \\\n",
       "0  http://www.waff.com/2018/12/29/hepatitis-outbr...  12/28/18 22:39   \n",
       "1  http://promedmail.org/direct.php?id=20181229.6...  12/29/18 17:46   \n",
       "2  https://dailybusinessgazette.com/health-offici...   12/30/18 7:18   \n",
       "3  https://www.rocketcitynow.com/news/hepatitis-a...    1/10/19 7:08   \n",
       "4  https://www.wrbl.com/news/georgia/hepatitis-a-...   3/18/19 14:05   \n",
       "\n",
       "   Category  Mention other states? (yes - 1/no - 0) States if 1 in F  \\\n",
       "0  Breaking                                     0.0              NaN   \n",
       "1    No Tag                                     1.0           KY, WV   \n",
       "2  Breaking                                     1.0               TN   \n",
       "3  Breaking                                     0.0              NaN   \n",
       "4   Context                                     1.0               GA   \n",
       "\n",
       "   num_named_entity  avg_polarity_score_negative  avg_polarity_score_neutral  \\\n",
       "0               1.0                        0.000                       1.000   \n",
       "1               4.0                        0.000                       1.000   \n",
       "2               3.0                        0.104                       0.896   \n",
       "3               0.0                        0.000                       1.000   \n",
       "4               2.0                        0.000                       1.000   \n",
       "\n",
       "   avg_polarity_score_positive  avg_polarity_score_compound  \n",
       "0                          0.0                       0.0000  \n",
       "1                          0.0                       0.0000  \n",
       "2                          0.0                      -0.1027  \n",
       "3                          0.0                       0.0000  \n",
       "4                          0.0                       0.0000  "
      ]
     },
     "execution_count": 19,
     "metadata": {},
     "output_type": "execute_result"
    }
   ],
   "source": [
    "stylo_data = make_stylo_features_df_Title(articles_df)\n",
    "stylo = stylo_data[[\"num_named_entity\",\"avg_polarity_score_negative\",\"avg_polarity_score_neutral\",\"avg_polarity_score_positive\",\"avg_polarity_score_compound\"]]\n",
    "df_appended = pd.concat([articles_df, stylo], axis = 1)\n",
    "\n",
    "df_appended.Location = df_appended.Location.str.extract(r'(.*?,)')\n",
    "df_appended.Location = df_appended.Location.str.rstrip(',')\n",
    "df_appended\n",
    "\n",
    "df_no = df_appended[df_appended.Location.isin(df_states.State[df_states.Outbreak == 0])]\n",
    "df_yes = df_appended[df_appended.Location.isin(df_states.State[df_states.Outbreak == 1])]\n",
    "df_nyc = df_appended[~df_appended.Location.isin(df_states.State)]\n",
    "df_no = pd.concat([df_no, df_nyc])\n",
    "\n",
    "df_no.head()"
   ]
  },
  {
   "cell_type": "code",
   "execution_count": 20,
   "metadata": {},
   "outputs": [
    {
     "data": {
      "image/png": "[encoded data removed]",
      "text/plain": [
       "<matplotlib.figure.Figure at 0x1a10277a20>"
      ]
     },
     "metadata": {},
     "output_type": "display_data"
    },
    {
     "data": {
      "image/png": "[encoded data removed]",
      "text/plain": [
       "<matplotlib.figure.Figure at 0x1a14ba0160>"
      ]
     },
     "metadata": {},
     "output_type": "display_data"
    }
   ],
   "source": [
    "plt.hist(df_no['avg_polarity_score_compound'], color=\"#4F7301\")\n",
    "# plt.title(\"Histogram of the polarity score: compound, NO Outbreak\")\n",
    "plt.xlim(-1,1)\n",
    "plt.xlabel(\"compound polarity score\")\n",
    "plt.ylabel(\"# of articles\")\n",
    "\n",
    "plt.show()\n",
    "\n",
    "plt.hist(df_yes['avg_polarity_score_compound'], color=\"#E7B10C\")\n",
    "# plt.title(\"Histogram of the polarity score: compound, YES Outbreak\")\n",
    "plt.xlim(-1,1)\n",
    "plt.xlabel(\"compound polarity score\")\n",
    "plt.ylabel(\"# of articles\")\n",
    "\n",
    "plt.show()"
   ]
  },
  {
   "cell_type": "markdown",
   "metadata": {},
   "source": [
    "Sentiment analysis 2\n",
    "\n",
    "Data: the titles of all articles - four different polarity scores"
   ]
  },
  {
   "cell_type": "code",
   "execution_count": 37,
   "metadata": {},
   "outputs": [
    {
     "data": {
      "image/png": "[encoded data removed]",
      "text/plain": [
       "<matplotlib.figure.Figure at 0x1a1db12ac8>"
      ]
     },
     "metadata": {},
     "output_type": "display_data"
    },
    {
     "data": {
      "image/png": "[encoded data removed]",
      "text/plain": [
       "<matplotlib.figure.Figure at 0x1a152e7518>"
      ]
     },
     "metadata": {},
     "output_type": "display_data"
    },
    {
     "data": {
      "image/png": "[encoded data removed]",
      "text/plain": [
       "<matplotlib.figure.Figure at 0x1a1dbfac88>"
      ]
     },
     "metadata": {},
     "output_type": "display_data"
    },
    {
     "data": {
      "image/png": "[encoded data removed]",
      "text/plain": [
       "<matplotlib.figure.Figure at 0x1a1db7e6a0>"
      ]
     },
     "metadata": {},
     "output_type": "display_data"
    }
   ],
   "source": [
    "plt.hist(df_appended['avg_polarity_score_compound'], color = \"dodgerblue\")\n",
    "plt.title(\"Histogram of the polarity score_compound\")\n",
    "plt.show()\n",
    "\n",
    "plt.hist(df_appended['avg_polarity_score_negative'], color = \"dodgerblue\")\n",
    "plt.title(\"Histogram of the polarity score_negative\")\n",
    "plt.show()\n",
    "\n",
    "plt.hist(df_appended['avg_polarity_score_positive'], color = \"dodgerblue\")\n",
    "plt.title(\"Histogram of the polarity score_positive\")\n",
    "plt.show()\n",
    "\n",
    "plt.hist(df_appended['avg_polarity_score_neutral'], color = \"dodgerblue\")\n",
    "plt.title(\"Histogram of the polarity score_neutral\")\n",
    "plt.show()"
   ]
  },
  {
   "cell_type": "markdown",
   "metadata": {},
   "source": [
    "Sentiment analysis 3\n",
    "\n",
    "Data: the contents of articles form CA and KY - four different polarity scores"
   ]
  },
  {
   "cell_type": "code",
   "execution_count": 24,
   "metadata": {
    "collapsed": true
   },
   "outputs": [],
   "source": [
    "df_ken = add_stylo_features(df_ken)\n",
    "df_cal = add_stylo_features(df_cal)"
   ]
  },
  {
   "cell_type": "code",
   "execution_count": 32,
   "metadata": {
    "scrolled": false
   },
   "outputs": [
    {
     "data": {
      "image/png": "[encoded data removed]",
      "text/plain": [
       "<matplotlib.figure.Figure at 0x1a1dc47b70>"
      ]
     },
     "metadata": {},
     "output_type": "display_data"
    },
    {
     "data": {
      "image/png": "[encoded data removed]",
      "text/plain": [
       "<matplotlib.figure.Figure at 0x1a1db6aef0>"
      ]
     },
     "metadata": {},
     "output_type": "display_data"
    },
    {
     "data": {
      "image/png": "[encoded data removed]",
      "text/plain": [
       "<matplotlib.figure.Figure at 0x1a1d80cef0>"
      ]
     },
     "metadata": {},
     "output_type": "display_data"
    },
    {
     "data": {
      "image/png": "[encoded data removed]",
      "text/plain": [
       "<matplotlib.figure.Figure at 0x1a10314470>"
      ]
     },
     "metadata": {},
     "output_type": "display_data"
    },
    {
     "data": {
      "image/png": "[encoded data removed]",
      "text/plain": [
       "<matplotlib.figure.Figure at 0x1a14ec3780>"
      ]
     },
     "metadata": {},
     "output_type": "display_data"
    },
    {
     "data": {
      "image/png": "[encoded data removed]",
      "text/plain": [
       "<matplotlib.figure.Figure at 0x1a1dd9d518>"
      ]
     },
     "metadata": {},
     "output_type": "display_data"
    },
    {
     "data": {
      "image/png": "[encoded data removed]",
      "text/plain": [
       "<matplotlib.figure.Figure at 0x1a1dcaa400>"
      ]
     },
     "metadata": {},
     "output_type": "display_data"
    },
    {
     "data": {
      "image/png": "[encoded data removed]",
      "text/plain": [
       "<matplotlib.figure.Figure at 0x1a15387898>"
      ]
     },
     "metadata": {},
     "output_type": "display_data"
    }
   ],
   "source": [
    "plt.hist(df_cal['avg_polarity_score_compound'], color=\"#C2C0BF\")\n",
    "plt.title(\"Histogram of the polarity score: compound, CA\")\n",
    "plt.xlim(-1,1)\n",
    "plt.show()\n",
    "\n",
    "plt.hist(df_ken['avg_polarity_score_compound'], color=\"#A31F34\")\n",
    "plt.title(\"Histogram of the polarity score: compound, KY\")\n",
    "plt.xlim(-1,1)\n",
    "plt.show()\n",
    "\n",
    "\n",
    "\n",
    "plt.hist(df_cal['avg_polarity_score_negative'], 15, color=\"#C2C0BF\")\n",
    "plt.title(\"Histogram of the polarity score: negative, CA\")\n",
    "plt.xlim(0,0.2)\n",
    "plt.show()\n",
    "\n",
    "plt.hist(df_ken['avg_polarity_score_negative'], 22, color=\"#A31F34\")\n",
    "plt.title(\"Histogram of the polarity score: negative, KY\")\n",
    "plt.xlim(0,0.2)\n",
    "plt.show()\n",
    "\n",
    "\n",
    "\n",
    "plt.hist(df_cal['avg_polarity_score_positive'], 15, color=\"#C2C0BF\")\n",
    "plt.title(\"Histogram of the polarity score: positive, CA\")\n",
    "plt.xlim(0,0.2)\n",
    "plt.show()\n",
    "\n",
    "plt.hist(df_ken['avg_polarity_score_positive'], 15, color=\"#A31F34\")\n",
    "plt.title(\"Histogram of the polarity score: positive, KY\")\n",
    "plt.xlim(0,0.2)\n",
    "plt.show()\n",
    "\n",
    "\n",
    "\n",
    "plt.hist(df_cal['avg_polarity_score_neutral'], 15, color=\"#C2C0BF\")\n",
    "plt.title(\"Histogram of the polarity score: neutral, CA\")\n",
    "plt.xlim(0,1)\n",
    "plt.show()\n",
    "\n",
    "plt.hist(df_ken['avg_polarity_score_neutral'], 15, color=\"#A31F34\")\n",
    "plt.title(\"Histogram of the polarity score: neutral, KY\")\n",
    "plt.xlim(0,1)\n",
    "plt.show()\n",
    "\n"
   ]
  }
 ],
 "metadata": {
  "kernelspec": {
   "display_name": "Python 3",
   "language": "python",
   "name": "python3"
  },
  "language_info": {
   "codemirror_mode": {
    "name": "ipython",
    "version": 3
   },
   "file_extension": ".py",
   "mimetype": "text/x-python",
   "name": "python",
   "nbconvert_exporter": "python",
   "pygments_lexer": "ipython3",
   "version": "3.6.7"
  }
 },
 "nbformat": 4,
 "nbformat_minor": 2
}
